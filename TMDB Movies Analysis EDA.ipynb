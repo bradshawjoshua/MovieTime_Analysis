{
 "cells": [
  {
   "cell_type": "markdown",
   "id": "af5cd8a1",
   "metadata": {},
   "source": [
    "# TMDB Movies Analysis EDA"
   ]
  },
  {
   "cell_type": "markdown",
   "id": "f1c2ff76",
   "metadata": {},
   "source": [
    "## Imports"
   ]
  },
  {
   "cell_type": "code",
   "execution_count": 1,
   "id": "ae963448",
   "metadata": {},
   "outputs": [],
   "source": [
    "# imports\n",
    "import pandas as pd\n",
    "import numpy as np\n",
    "import seaborn as sns\n",
    "import matplotlib.pyplot as plt\n",
    "import matplotlib.ticker as ticker\n",
    "from matplotlib.ticker import FuncFormatter"
   ]
  },
  {
   "cell_type": "code",
   "execution_count": 2,
   "id": "8eb770fd",
   "metadata": {},
   "outputs": [],
   "source": [
    "# df by client's desired year\n",
    "df2000 = pd.read_csv(\"./Data/final_tmdb_data_2000.csv.gz\")\n",
    "df2001 = pd.read_csv(\"./Data/final_tmdb_data_2001.csv.gz\")"
   ]
  },
  {
   "cell_type": "code",
   "execution_count": 3,
   "id": "ed9ebcd9",
   "metadata": {},
   "outputs": [
    {
     "name": "stdout",
     "output_type": "stream",
     "text": [
      "<class 'pandas.core.frame.DataFrame'>\n",
      "Int64Index: 2491 entries, 0 to 1287\n",
      "Data columns (total 26 columns):\n",
      " #   Column                 Non-Null Count  Dtype  \n",
      "---  ------                 --------------  -----  \n",
      " 0   imdb_id                2491 non-null   object \n",
      " 1   adult                  2489 non-null   float64\n",
      " 2   backdrop_path          1290 non-null   object \n",
      " 3   belongs_to_collection  197 non-null    object \n",
      " 4   budget                 2489 non-null   float64\n",
      " 5   genres                 2489 non-null   object \n",
      " 6   homepage               174 non-null    object \n",
      " 7   id                     2489 non-null   float64\n",
      " 8   original_language      2489 non-null   object \n",
      " 9   original_title         2489 non-null   object \n",
      " 10  overview               2437 non-null   object \n",
      " 11  popularity             2489 non-null   float64\n",
      " 12  poster_path            2195 non-null   object \n",
      " 13  production_companies   2489 non-null   object \n",
      " 14  production_countries   2489 non-null   object \n",
      " 15  release_date           2470 non-null   object \n",
      " 16  revenue                2489 non-null   float64\n",
      " 17  runtime                2489 non-null   float64\n",
      " 18  spoken_languages       2489 non-null   object \n",
      " 19  status                 2489 non-null   object \n",
      " 20  tagline                1041 non-null   object \n",
      " 21  title                  2489 non-null   object \n",
      " 22  video                  2489 non-null   float64\n",
      " 23  vote_average           2489 non-null   float64\n",
      " 24  vote_count             2489 non-null   float64\n",
      " 25  certification          791 non-null    object \n",
      "dtypes: float64(9), object(17)\n",
      "memory usage: 525.4+ KB\n"
     ]
    }
   ],
   "source": [
    "# combining years into one df\n",
    "combined_dfs = [df2000, df2001]\n",
    "df = pd.concat(combined_dfs)\n",
    "df.info()"
   ]
  },
  {
   "cell_type": "markdown",
   "id": "74b41e63",
   "metadata": {},
   "source": [
    "## Preprocessing Financial Filters"
   ]
  },
  {
   "cell_type": "code",
   "execution_count": 4,
   "id": "0294e919",
   "metadata": {},
   "outputs": [],
   "source": [
    "# prep NaN to 0 for financial information (i.e., values > 0 for budget OR revenue)\n",
    "df['revenue'].fillna(value = 0, inplace = True)\n",
    "df['budget'].fillna(value = 0, inplace = True)"
   ]
  },
  {
   "cell_type": "code",
   "execution_count": 5,
   "id": "4d948257",
   "metadata": {},
   "outputs": [],
   "source": [
    "# financial information filters\n",
    "revenue_filter = df[\"revenue\"] > 0\n",
    "budget_filter = df[\"budget\"] > 0\n",
    "\n",
    "# combining financial info filters for revenue OR budget\n",
    "fin_info = df.loc[(df['revenue'] > 0) | (df['budget'] > 0)]"
   ]
  },
  {
   "cell_type": "code",
   "execution_count": 6,
   "id": "a0ef7e01",
   "metadata": {},
   "outputs": [
    {
     "name": "stdout",
     "output_type": "stream",
     "text": [
      "<class 'pandas.core.frame.DataFrame'>\n",
      "Int64Index: 620 entries, 1 to 1268\n",
      "Data columns (total 26 columns):\n",
      " #   Column                 Non-Null Count  Dtype  \n",
      "---  ------                 --------------  -----  \n",
      " 0   imdb_id                620 non-null    object \n",
      " 1   adult                  620 non-null    float64\n",
      " 2   backdrop_path          519 non-null    object \n",
      " 3   belongs_to_collection  102 non-null    object \n",
      " 4   budget                 620 non-null    float64\n",
      " 5   genres                 620 non-null    object \n",
      " 6   homepage               80 non-null     object \n",
      " 7   id                     620 non-null    float64\n",
      " 8   original_language      620 non-null    object \n",
      " 9   original_title         620 non-null    object \n",
      " 10  overview               617 non-null    object \n",
      " 11  popularity             620 non-null    float64\n",
      " 12  poster_path            599 non-null    object \n",
      " 13  production_companies   620 non-null    object \n",
      " 14  production_countries   620 non-null    object \n",
      " 15  release_date           620 non-null    object \n",
      " 16  revenue                620 non-null    float64\n",
      " 17  runtime                620 non-null    float64\n",
      " 18  spoken_languages       620 non-null    object \n",
      " 19  status                 620 non-null    object \n",
      " 20  tagline                477 non-null    object \n",
      " 21  title                  620 non-null    object \n",
      " 22  video                  620 non-null    float64\n",
      " 23  vote_average           620 non-null    float64\n",
      " 24  vote_count             620 non-null    float64\n",
      " 25  certification          423 non-null    object \n",
      "dtypes: float64(9), object(17)\n",
      "memory usage: 130.8+ KB\n"
     ]
    }
   ],
   "source": [
    "# explore filtered financial info\n",
    "fin_info.info()"
   ]
  },
  {
   "cell_type": "code",
   "execution_count": 7,
   "id": "ce2a6e98",
   "metadata": {},
   "outputs": [
    {
     "data": {
      "text/plain": [
       "'$120M'"
      ]
     },
     "execution_count": 7,
     "metadata": {},
     "output_type": "execute_result"
    }
   ],
   "source": [
    "# def function for millions ($)\n",
    "def hundred_m(x,pos):\n",
    "    \"\"\"function for use wth matplotlib FuncFormatter -  formats money in millions\"\"\"\n",
    "    return f\"${x/1000000:,.0f}M\"\n",
    "\n",
    "# function test\n",
    "hundred_m(120000000,0)"
   ]
  },
  {
   "cell_type": "code",
   "execution_count": 8,
   "id": "32c2ad53",
   "metadata": {},
   "outputs": [],
   "source": [
    "# creating a formatter for improved viz\n",
    "price_fmt_100m = FuncFormatter(hundred_m)"
   ]
  },
  {
   "cell_type": "markdown",
   "id": "76c458a1",
   "metadata": {},
   "source": [
    "## Number of Movies by Certification Category"
   ]
  },
  {
   "cell_type": "code",
   "execution_count": 9,
   "id": "f4df05f2",
   "metadata": {},
   "outputs": [
    {
     "data": {
      "text/plain": [
       "Text(0.5, 1.0, 'Movie Count by Certification Category')"
      ]
     },
     "execution_count": 9,
     "metadata": {},
     "output_type": "execute_result"
    },
    {
     "data": {
      "image/png": "[encoded data removed]",
      "text/plain": [
       "<Figure size 720x360 with 1 Axes>"
      ]
     },
     "metadata": {},
     "output_type": "display_data"
    }
   ],
   "source": [
    "# set the style\n",
    "plt.style.use('ggplot')\n",
    "\n",
    "# set the size\n",
    "fig, ax = plt.subplots(figsize=(10,5))\n",
    "\n",
    "# plot bars\n",
    "ax = sns.countplot(y=\"certification\", order=[\"NR\",\"G\",\"PG\",\"PG-13\",\"R\"] , data=fin_info)\n",
    "\n",
    "\n",
    "# labels and title\n",
    "plt.ylabel(\"Certification Category\", size=12)\n",
    "plt.xlabel(\"Count of Movies\", size=12)\n",
    "plt.title(\"Movie Count by Certification Category\", size=14)"
   ]
  },
  {
   "cell_type": "markdown",
   "id": "7091efee",
   "metadata": {},
   "source": [
    "## Revenue Average by Certification Category"
   ]
  },
  {
   "cell_type": "code",
   "execution_count": 10,
   "id": "30c42d3c",
   "metadata": {},
   "outputs": [
    {
     "data": {
      "text/html": [
       "<div>\n",
       "<style scoped>\n",
       "    .dataframe tbody tr th:only-of-type {\n",
       "        vertical-align: middle;\n",
       "    }\n",
       "\n",
       "    .dataframe tbody tr th {\n",
       "        vertical-align: top;\n",
       "    }\n",
       "\n",
       "    .dataframe thead th {\n",
       "        text-align: right;\n",
       "    }\n",
       "</style>\n",
       "<table border=\"1\" class=\"dataframe\">\n",
       "  <thead>\n",
       "    <tr style=\"text-align: right;\">\n",
       "      <th></th>\n",
       "      <th>certification</th>\n",
       "      <th>mean_revenue</th>\n",
       "    </tr>\n",
       "  </thead>\n",
       "  <tbody>\n",
       "    <tr>\n",
       "      <th>0</th>\n",
       "      <td>G</td>\n",
       "      <td>1.237085e+08</td>\n",
       "    </tr>\n",
       "    <tr>\n",
       "      <th>1</th>\n",
       "      <td>NR</td>\n",
       "      <td>8.887619e+06</td>\n",
       "    </tr>\n",
       "    <tr>\n",
       "      <th>2</th>\n",
       "      <td>PG</td>\n",
       "      <td>1.123378e+08</td>\n",
       "    </tr>\n",
       "    <tr>\n",
       "      <th>3</th>\n",
       "      <td>PG-13</td>\n",
       "      <td>9.970084e+07</td>\n",
       "    </tr>\n",
       "    <tr>\n",
       "      <th>4</th>\n",
       "      <td>R</td>\n",
       "      <td>3.334614e+07</td>\n",
       "    </tr>\n",
       "  </tbody>\n",
       "</table>\n",
       "</div>"
      ],
      "text/plain": [
       "  certification  mean_revenue\n",
       "0             G  1.237085e+08\n",
       "1            NR  8.887619e+06\n",
       "2            PG  1.123378e+08\n",
       "3         PG-13  9.970084e+07\n",
       "4             R  3.334614e+07"
      ]
     },
     "execution_count": 10,
     "metadata": {},
     "output_type": "execute_result"
    }
   ],
   "source": [
    "# groupby cert and rev\n",
    "rev_avg = fin_info.groupby('certification')['revenue'].agg(mean_revenue = (\"mean\"))\n",
    "\n",
    "#set new aggregate mean onto rev_avg\n",
    "rev_avg = rev_avg.reset_index()\n",
    "rev_avg.head()"
   ]
  },
  {
   "cell_type": "code",
   "execution_count": 11,
   "id": "3b0b06c7",
   "metadata": {},
   "outputs": [
    {
     "data": {
      "text/plain": [
       "Text(0.5, 1.0, 'Revenue Average by Certification Category')"
      ]
     },
     "execution_count": 11,
     "metadata": {},
     "output_type": "execute_result"
    },
    {
     "data": {
      "image/png": "[encoded data removed]",
      "text/plain": [
       "<Figure size 720x360 with 1 Axes>"
      ]
     },
     "metadata": {},
     "output_type": "display_data"
    }
   ],
   "source": [
    "# set the style\n",
    "plt.style.use('ggplot')\n",
    "\n",
    "# set the size\n",
    "fig, ax = plt.subplots(figsize=(10,5))\n",
    "ax.yaxis.set_major_formatter(price_fmt_100m)\n",
    "\n",
    "\n",
    "# plot bars\n",
    "sns.barplot(x='certification', \n",
    "                y='mean_revenue', \n",
    "                order=[\"NR\",\"G\",\"PG\",\"PG-13\",\"R\"],\n",
    "                data = rev_avg) \n",
    "\n",
    "# labels and title\n",
    "plt.ylabel(\"Mean Revenue\", size=12)\n",
    "plt.xlabel(\"Certification Category\", size=12)\n",
    "plt.title(\"Revenue Average by Certification Category\", size=14)"
   ]
  },
  {
   "cell_type": "markdown",
   "id": "3c8d3fc4",
   "metadata": {},
   "source": [
    "## Revenue Budget by Certification Category"
   ]
  },
  {
   "cell_type": "code",
   "execution_count": 12,
   "id": "405ae891",
   "metadata": {},
   "outputs": [
    {
     "data": {
      "text/html": [
       "<div>\n",
       "<style scoped>\n",
       "    .dataframe tbody tr th:only-of-type {\n",
       "        vertical-align: middle;\n",
       "    }\n",
       "\n",
       "    .dataframe tbody tr th {\n",
       "        vertical-align: top;\n",
       "    }\n",
       "\n",
       "    .dataframe thead th {\n",
       "        text-align: right;\n",
       "    }\n",
       "</style>\n",
       "<table border=\"1\" class=\"dataframe\">\n",
       "  <thead>\n",
       "    <tr style=\"text-align: right;\">\n",
       "      <th></th>\n",
       "      <th>certification</th>\n",
       "      <th>mean_budget</th>\n",
       "    </tr>\n",
       "  </thead>\n",
       "  <tbody>\n",
       "    <tr>\n",
       "      <th>0</th>\n",
       "      <td>G</td>\n",
       "      <td>4.085714e+07</td>\n",
       "    </tr>\n",
       "    <tr>\n",
       "      <th>1</th>\n",
       "      <td>NR</td>\n",
       "      <td>6.300006e+06</td>\n",
       "    </tr>\n",
       "    <tr>\n",
       "      <th>2</th>\n",
       "      <td>PG</td>\n",
       "      <td>4.497857e+07</td>\n",
       "    </tr>\n",
       "    <tr>\n",
       "      <th>3</th>\n",
       "      <td>PG-13</td>\n",
       "      <td>4.348391e+07</td>\n",
       "    </tr>\n",
       "    <tr>\n",
       "      <th>4</th>\n",
       "      <td>R</td>\n",
       "      <td>2.013149e+07</td>\n",
       "    </tr>\n",
       "  </tbody>\n",
       "</table>\n",
       "</div>"
      ],
      "text/plain": [
       "  certification   mean_budget\n",
       "0             G  4.085714e+07\n",
       "1            NR  6.300006e+06\n",
       "2            PG  4.497857e+07\n",
       "3         PG-13  4.348391e+07\n",
       "4             R  2.013149e+07"
      ]
     },
     "execution_count": 12,
     "metadata": {},
     "output_type": "execute_result"
    }
   ],
   "source": [
    "# grouping certs by budget mean\n",
    "budget_avg = fin_info.groupby('certification')['budget'].agg(mean_budget = (\"mean\"))\n",
    "budget_avg\n",
    "\n",
    "#set new aggregate mean onto rev_avg\n",
    "budget_avg = budget_avg.reset_index()\n",
    "budget_avg.head()"
   ]
  },
  {
   "cell_type": "code",
   "execution_count": 13,
   "id": "7ac09f08",
   "metadata": {},
   "outputs": [
    {
     "data": {
      "text/plain": [
       "Text(0.5, 1.0, 'Budget Average by Certification Category')"
      ]
     },
     "execution_count": 13,
     "metadata": {},
     "output_type": "execute_result"
    },
    {
     "data": {
      "image/png": "[encoded data removed]",
      "text/plain": [
       "<Figure size 720x360 with 1 Axes>"
      ]
     },
     "metadata": {},
     "output_type": "display_data"
    }
   ],
   "source": [
    "# set the style\n",
    "plt.style.use('ggplot')\n",
    "\n",
    "# set the size\n",
    "fig, ax = plt.subplots(figsize=(10,5))\n",
    "ax.yaxis.set_major_formatter(price_fmt_100m)\n",
    "\n",
    "\n",
    "# plot bars\n",
    "sns.barplot(x='certification', \n",
    "                y='mean_budget', \n",
    "                order=[\"NR\",\"G\",\"PG\",\"PG-13\",\"R\"],\n",
    "                data = budget_avg) \n",
    "\n",
    "# labels and title\n",
    "plt.ylabel(\"Mean Budget\", size=12)\n",
    "plt.xlabel(\"Certification Category\", size=12)\n",
    "plt.title(\"Budget Average by Certification Category\", size=14)"
   ]
  },
  {
   "cell_type": "code",
   "execution_count": 14,
   "id": "a994f583",
   "metadata": {},
   "outputs": [],
   "source": [
    "# final merge of all tmdb api data\n",
    "fin_info.to_csv('./Data/final_results_tmdb.csv.gz', compression='gzip',index=False)"
   ]
  }
 ],
 "metadata": {
  "kernelspec": {
   "display_name": "Python (dojo-env)",
   "language": "python",
   "name": "dojo-env"
  },
  "language_info": {
   "codemirror_mode": {
    "name": "ipython",
    "version": 3
   },
   "file_extension": ".py",
   "mimetype": "text/x-python",
   "name": "python",
   "nbconvert_exporter": "python",
   "pygments_lexer": "ipython3",
   "version": "3.8.13"
  },
  "toc": {
   "base_numbering": 1,
   "nav_menu": {},
   "number_sections": false,
   "sideBar": true,
   "skip_h1_title": false,
   "title_cell": "Table of Contents",
   "title_sidebar": "Contents",
   "toc_cell": false,
   "toc_position": {
    "height": "calc(100% - 180px)",
    "left": "10px",
    "top": "150px",
    "width": "384px"
   },
   "toc_section_display": true,
   "toc_window_display": true
  }
 },
 "nbformat": 4,
 "nbformat_minor": 5
}
