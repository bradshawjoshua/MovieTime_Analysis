{
 "cells": [
  {
   "cell_type": "markdown",
   "id": "2049404f",
   "metadata": {},
   "source": [
    "## Imports"
   ]
  },
  {
   "cell_type": "code",
   "execution_count": 182,
   "id": "ae963448",
   "metadata": {},
   "outputs": [],
   "source": [
    "# imports\n",
    "import pandas as pd\n",
    "import numpy as np\n",
    "import seaborn as sns\n",
    "import matplotlib.pyplot as plt\n",
    "import matplotlib.ticker as ticker\n",
    "from matplotlib.ticker import FuncFormatter\n",
    "\n",
    "import tmdbsimple as tmdb\n",
    "import os, time,json\n",
    "from tqdm.notebook import tqdm_notebook"
   ]
  },
  {
   "cell_type": "markdown",
   "id": "48f86fea",
   "metadata": {},
   "source": [
    "## Data "
   ]
  },
  {
   "cell_type": "code",
   "execution_count": null,
   "id": "1a289b9d",
   "metadata": {},
   "outputs": [],
   "source": [
    "# loading previous MovieTime Analysis notebook dataframes\n",
    "basics = pd.read_csv(\"Data/title_basics.csv.gz\", low_memory = False)\n",
    "akas = pd.read_csv(\"Data/title_akas.csv.gz\", low_memory = False)\n",
    "ratings = pd.read_csv(\"Data/title_ratings.csv.gz\", low_memory = False)"
   ]
  },
  {
   "cell_type": "markdown",
   "id": "4911c8f4",
   "metadata": {},
   "source": [
    "### Basics"
   ]
  },
  {
   "cell_type": "code",
   "execution_count": 3,
   "id": "1a424310",
   "metadata": {},
   "outputs": [
    {
     "name": "stdout",
     "output_type": "stream",
     "text": [
      "<class 'pandas.core.frame.DataFrame'>\n",
      "RangeIndex: 82150 entries, 0 to 82149\n",
      "Data columns (total 9 columns):\n",
      " #   Column          Non-Null Count  Dtype  \n",
      "---  ------          --------------  -----  \n",
      " 0   tconst          82150 non-null  object \n",
      " 1   titleType       82150 non-null  object \n",
      " 2   primaryTitle    82150 non-null  object \n",
      " 3   originalTitle   82150 non-null  object \n",
      " 4   isAdult         82150 non-null  int64  \n",
      " 5   startYear       82150 non-null  int64  \n",
      " 6   endYear         0 non-null      float64\n",
      " 7   runtimeMinutes  82150 non-null  int64  \n",
      " 8   genres          82150 non-null  object \n",
      "dtypes: float64(1), int64(3), object(5)\n",
      "memory usage: 5.6+ MB\n"
     ]
    }
   ],
   "source": [
    "# checking for missing values\n",
    "basics.info()"
   ]
  },
  {
   "cell_type": "code",
   "execution_count": 4,
   "id": "bbdde6f3",
   "metadata": {},
   "outputs": [],
   "source": [
    "# dropping endYear column, all null\n",
    "basics = basics.drop(columns = [\"endYear\"])"
   ]
  },
  {
   "cell_type": "markdown",
   "id": "387d8d93",
   "metadata": {},
   "source": [
    "### Akas"
   ]
  },
  {
   "cell_type": "code",
   "execution_count": 5,
   "id": "7db3dbdf",
   "metadata": {},
   "outputs": [
    {
     "name": "stdout",
     "output_type": "stream",
     "text": [
      "<class 'pandas.core.frame.DataFrame'>\n",
      "RangeIndex: 1342956 entries, 0 to 1342955\n",
      "Data columns (total 8 columns):\n",
      " #   Column           Non-Null Count    Dtype  \n",
      "---  ------           --------------    -----  \n",
      " 0   titleId          1342956 non-null  object \n",
      " 1   ordering         1342956 non-null  int64  \n",
      " 2   title            1342956 non-null  object \n",
      " 3   region           1342956 non-null  object \n",
      " 4   language         3681 non-null     object \n",
      " 5   types            963321 non-null   object \n",
      " 6   attributes       44751 non-null    object \n",
      " 7   isOriginalTitle  1341581 non-null  float64\n",
      "dtypes: float64(1), int64(1), object(6)\n",
      "memory usage: 82.0+ MB\n"
     ]
    }
   ],
   "source": [
    "# checking for missing values\n",
    "akas.info()"
   ]
  },
  {
   "cell_type": "code",
   "execution_count": 6,
   "id": "3b058f1f",
   "metadata": {},
   "outputs": [],
   "source": [
    "# replacing null values as unknown\n",
    "akas[\"language\"].fillna(\"Unknown\", inplace = True)\n",
    "akas[\"types\"].fillna(\"Unknown\", inplace = True)\n",
    "akas[\"attributes\"].fillna(\"Unknown\", inplace = True)\n",
    "akas[\"isOriginalTitle\"].fillna(\"Unknown\", inplace = True)"
   ]
  },
  {
   "cell_type": "markdown",
   "id": "4a1a8b6a",
   "metadata": {},
   "source": [
    "### Ratings"
   ]
  },
  {
   "cell_type": "code",
   "execution_count": 7,
   "id": "fb24fff5",
   "metadata": {},
   "outputs": [
    {
     "name": "stdout",
     "output_type": "stream",
     "text": [
      "<class 'pandas.core.frame.DataFrame'>\n",
      "RangeIndex: 1263582 entries, 0 to 1263581\n",
      "Data columns (total 3 columns):\n",
      " #   Column         Non-Null Count    Dtype  \n",
      "---  ------         --------------    -----  \n",
      " 0   tconst         1263582 non-null  object \n",
      " 1   averageRating  1263582 non-null  float64\n",
      " 2   numVotes       1263582 non-null  int64  \n",
      "dtypes: float64(1), int64(1), object(1)\n",
      "memory usage: 28.9+ MB\n"
     ]
    }
   ],
   "source": [
    "# check for missing values\n",
    "ratings.info()"
   ]
  },
  {
   "cell_type": "markdown",
   "id": "ec006bdf",
   "metadata": {},
   "source": [
    "## TMDB API Processing"
   ]
  },
  {
   "cell_type": "code",
   "execution_count": 8,
   "id": "a8b9cbb3",
   "metadata": {},
   "outputs": [
    {
     "name": "stdout",
     "output_type": "stream",
     "text": [
      "Defaulting to user installation because normal site-packages is not writeable\n",
      "Requirement already satisfied: tmdbsimple in c:\\users\\joshu\\appdata\\roaming\\python\\python310\\site-packages (2.9.1)\n",
      "Requirement already satisfied: requests in c:\\users\\joshu\\appdata\\roaming\\python\\python310\\site-packages (from tmdbsimple) (2.28.1)\n",
      "Requirement already satisfied: urllib3<1.27,>=1.21.1 in c:\\users\\joshu\\appdata\\roaming\\python\\python310\\site-packages (from requests->tmdbsimple) (1.26.12)\n",
      "Requirement already satisfied: idna<4,>=2.5 in c:\\users\\joshu\\appdata\\roaming\\python\\python310\\site-packages (from requests->tmdbsimple) (3.3)\n",
      "Requirement already satisfied: certifi>=2017.4.17 in c:\\users\\joshu\\appdata\\roaming\\python\\python310\\site-packages (from requests->tmdbsimple) (2022.6.15)\n",
      "Requirement already satisfied: charset-normalizer<3,>=2 in c:\\users\\joshu\\appdata\\roaming\\python\\python310\\site-packages (from requests->tmdbsimple) (2.1.1)\n"
     ]
    }
   ],
   "source": [
    "# tmdbsimple\n",
    "!pip install tmdbsimple  --no-warn-script-location"
   ]
  },
  {
   "cell_type": "code",
   "execution_count": 9,
   "id": "ba2946b3",
   "metadata": {},
   "outputs": [],
   "source": [
    "# API credentials\n",
    "with open('/Users/joshu/.secret/tmdb_api.json', 'r') as f:\n",
    "    login = json.load(f)\n",
    "login.keys()\n",
    "\n",
    "import tmdbsimple as tmdb\n",
    "tmdb.API_KEY =  login['api-key']"
   ]
  },
  {
   "cell_type": "code",
   "execution_count": 10,
   "id": "33e5a0ec",
   "metadata": {},
   "outputs": [],
   "source": [
    "# instantiating API key\n",
    "tmdb.API_KEY =  login['api-key']"
   ]
  },
  {
   "cell_type": "code",
   "execution_count": 11,
   "id": "55975f02",
   "metadata": {},
   "outputs": [
    {
     "data": {
      "text/plain": [
       "['.ipynb_checkpoints',\n",
       " 'title_akas.csv.gz',\n",
       " 'title_basics.csv.gz',\n",
       " 'title_ratings.csv.gz']"
      ]
     },
     "execution_count": 11,
     "metadata": {},
     "output_type": "execute_result"
    }
   ],
   "source": [
    "# designating folder 'Data' to save my API calls\n",
    "FOLDER = \"Data/\"\n",
    "os.makedirs(FOLDER, exist_ok=True)\n",
    "os.listdir(FOLDER)"
   ]
  },
  {
   "cell_type": "code",
   "execution_count": 12,
   "id": "ef307e87",
   "metadata": {},
   "outputs": [],
   "source": [
    "# my client's desired years\n",
    "YEARS_TO_GET = [2000, 2001]"
   ]
  },
  {
   "cell_type": "code",
   "execution_count": 13,
   "id": "8e03eecb",
   "metadata": {},
   "outputs": [],
   "source": [
    "# helper functions prior to running loop\n",
    "def read_and_fix_json(JSON_FILE):\n",
    "    \"\"\"Attempts to read in json file of records and fixes the final character\n",
    "    to end with a ] if it errors.\n",
    "    \n",
    "    Args:\n",
    "        JSON_FILE (str): filepath of JSON file\n",
    "        \n",
    "    Returns:\n",
    "        DataFrame: the corrected data from the bad json file\n",
    "    \"\"\"\n",
    "    try: \n",
    "        previous_df =  pd.read_json(JSON_FILE)\n",
    "    \n",
    "    ## if read_json throws an error\n",
    "    except:\n",
    "        \n",
    "        ## manually open the json file\n",
    "        with open(JSON_FILE,'r+') as f:\n",
    "            ## Read in the file as a STRING\n",
    "            bad_json = f.read()\n",
    "            \n",
    "            ## if the final character doesn't match first, select the right bracket\n",
    "            first_char = bad_json[0]\n",
    "            final_brackets = {'[':']', \n",
    "                           \"{\":\"}\"}\n",
    "            ## Select expected final brakcet\n",
    "            final_char = final_brackets[first_char]\n",
    "            \n",
    "            ## if the last character in file doen't match the first char, add it\n",
    "            if bad_json[-1] != final_char:\n",
    "                good_json = bad_json[:-1]\n",
    "                good_json+=final_char\n",
    "            else:\n",
    "                raise Exception('ERROR is not due to mismatched final bracket.')\n",
    "            \n",
    "            ## Rewind to start of file and write new good_json to disk\n",
    "            f.seek(0)\n",
    "            f.write(good_json)\n",
    "           \n",
    "        ## Load the json file again now that its fixed\n",
    "        previous_df =  pd.read_json(JSON_FILE)\n",
    "        \n",
    "    return previous_df"
   ]
  },
  {
   "cell_type": "code",
   "execution_count": 14,
   "id": "a04f8fc9",
   "metadata": {},
   "outputs": [],
   "source": [
    "def movie_rating(movie_id):\n",
    "    \n",
    "    # getting the movie object for the current id\n",
    "    movie = tmdb.Movies(movie_id)\n",
    "\n",
    "    # save the .info .releases dictionaries\n",
    "    movie_info = movie.info()\n",
    "    \n",
    "    releases = movie.releases()\n",
    "    # looping through countries in releases\n",
    "    for c in releases['countries']:\n",
    "        if c['iso_3166_1' ] =='US':\n",
    "           movie_info['certification'] = c['certification']\n",
    "    return movie_info"
   ]
  },
  {
   "cell_type": "code",
   "execution_count": 15,
   "id": "c37d4790",
   "metadata": {},
   "outputs": [],
   "source": [
    "# preparing the inner loop  (https://www.geeksforgeeks.org/append-to-json-file-using-python/)\n",
    "def write_json(new_data, filename):   \n",
    "    \n",
    "    with open(filename,'r+') as file:\n",
    "        # First we load existing data into a dict.\n",
    "        file_data = json.load(file)\n",
    "        ## Choose extend or append\n",
    "        if (type(new_data) == list) & (type(file_data) == list):\n",
    "            file_data.extend(new_data)\n",
    "        else:\n",
    "             file_data.append(new_data)\n",
    "        # Sets file's current position at offset.\n",
    "        file.seek(0)\n",
    "        # convert back to json.\n",
    "        json.dump(file_data, file)"
   ]
  },
  {
   "cell_type": "code",
   "execution_count": 16,
   "id": "0434cc8c",
   "metadata": {},
   "outputs": [
    {
     "data": {
      "application/vnd.jupyter.widget-view+json": {
       "model_id": "f1ae8ca58da24c94b1df6839f0380c6f",
       "version_major": 2,
       "version_minor": 0
      },
      "text/plain": [
       "YEARS:   0%|          | 0/2 [00:00<?, ?it/s]"
      ]
     },
     "metadata": {},
     "output_type": "display_data"
    },
    {
     "data": {
      "application/vnd.jupyter.widget-view+json": {
       "model_id": "df35dcaca7d4467fadd0091ec0828c5f",
       "version_major": 2,
       "version_minor": 0
      },
      "text/plain": [
       "Movies from 2000:   0%|          | 0/1407 [00:00<?, ?it/s]"
      ]
     },
     "metadata": {},
     "output_type": "display_data"
    },
    {
     "data": {
      "application/vnd.jupyter.widget-view+json": {
       "model_id": "835b9ec882f04feeb1581ba94f697e5a",
       "version_major": 2,
       "version_minor": 0
      },
      "text/plain": [
       "Movies from 2001:   0%|          | 0/1529 [00:00<?, ?it/s]"
      ]
     },
     "metadata": {},
     "output_type": "display_data"
    }
   ],
   "source": [
    "# outer loop\n",
    "for YEAR in tqdm_notebook(YEARS_TO_GET, desc='YEARS', position=0):\n",
    "    JSON_FILE = f'{FOLDER}tmdb_api_results_{YEAR}.json'\n",
    "    file_exists = os.path.isfile(JSON_FILE)\n",
    "    \n",
    "    if file_exists == False:\n",
    "        with open(JSON_FILE,'w') as f:\n",
    "            json.dump([{'imdb_id':0}],f)\n",
    "            \n",
    "    df = basics.loc[basics['startYear']==YEAR].copy()\n",
    "    movie_ids = df['tconst'].copy()\n",
    "    previous_df = read_and_fix_json(JSON_FILE)\n",
    "    movie_ids_to_get = movie_ids[~movie_ids.isin(previous_df['imdb_id'])]        \n",
    "\n",
    "    # inner loop\n",
    "    for movie_id in tqdm_notebook(movie_ids_to_get, \n",
    "                                  desc=f'Movies from {YEAR}', \n",
    "                                  position=1, leave=True):\n",
    "        try:\n",
    "            temp = movie_rating(movie_id)\n",
    "            write_json(temp, JSON_FILE)\n",
    "            time.sleep(0.02)\n",
    "            \n",
    "        except Exception as e:\n",
    "            continue\n",
    "            \n",
    "    final_year_df = pd.read_json(JSON_FILE)\n",
    "    final_year_df.to_csv(f\"{FOLDER}final_tmdb_data_{YEAR}.csv.gz\", compression=\"gzip\", index=False)\n"
   ]
  },
  {
   "cell_type": "markdown",
   "id": "b8627ee3",
   "metadata": {},
   "source": [
    "## Exploratory Data Analysis"
   ]
  },
  {
   "cell_type": "code",
   "execution_count": 33,
   "id": "87f63ef0",
   "metadata": {},
   "outputs": [],
   "source": [
    "# df by desired year\n",
    "df2000 = pd.read_csv(\"./Data/final_tmdb_data_2000.csv.gz\")\n",
    "df2001 = pd.read_csv(\"./Data/final_tmdb_data_2001.csv.gz\")"
   ]
  },
  {
   "cell_type": "code",
   "execution_count": 34,
   "id": "5dfea1f4",
   "metadata": {},
   "outputs": [
    {
     "name": "stdout",
     "output_type": "stream",
     "text": [
      "<class 'pandas.core.frame.DataFrame'>\n",
      "Int64Index: 2491 entries, 0 to 1287\n",
      "Data columns (total 26 columns):\n",
      " #   Column                 Non-Null Count  Dtype  \n",
      "---  ------                 --------------  -----  \n",
      " 0   imdb_id                2491 non-null   object \n",
      " 1   adult                  2489 non-null   float64\n",
      " 2   backdrop_path          1290 non-null   object \n",
      " 3   belongs_to_collection  197 non-null    object \n",
      " 4   budget                 2489 non-null   float64\n",
      " 5   genres                 2489 non-null   object \n",
      " 6   homepage               174 non-null    object \n",
      " 7   id                     2489 non-null   float64\n",
      " 8   original_language      2489 non-null   object \n",
      " 9   original_title         2489 non-null   object \n",
      " 10  overview               2437 non-null   object \n",
      " 11  popularity             2489 non-null   float64\n",
      " 12  poster_path            2195 non-null   object \n",
      " 13  production_companies   2489 non-null   object \n",
      " 14  production_countries   2489 non-null   object \n",
      " 15  release_date           2470 non-null   object \n",
      " 16  revenue                2489 non-null   float64\n",
      " 17  runtime                2489 non-null   float64\n",
      " 18  spoken_languages       2489 non-null   object \n",
      " 19  status                 2489 non-null   object \n",
      " 20  tagline                1041 non-null   object \n",
      " 21  title                  2489 non-null   object \n",
      " 22  video                  2489 non-null   float64\n",
      " 23  vote_average           2489 non-null   float64\n",
      " 24  vote_count             2489 non-null   float64\n",
      " 25  certification          791 non-null    object \n",
      "dtypes: float64(9), object(17)\n",
      "memory usage: 525.4+ KB\n"
     ]
    }
   ],
   "source": [
    "combined_dfs = [df2000, df2001]\n",
    "df = pd.concat(combined_dfs)\n",
    "df.info()"
   ]
  },
  {
   "cell_type": "code",
   "execution_count": 35,
   "id": "d5936cb1",
   "metadata": {},
   "outputs": [],
   "source": [
    "# prep NaN to 0 for financial information (values > 0 for budget OR revenue)\n",
    "df['revenue'].fillna(value = 0, inplace = True)\n",
    "df['budget'].fillna(value = 0, inplace = True)"
   ]
  },
  {
   "cell_type": "code",
   "execution_count": 36,
   "id": "ec0ed727",
   "metadata": {},
   "outputs": [],
   "source": [
    "# financial information (values > 0 for budget OR revenue)\n",
    "revenue_filter = df[\"revenue\"] > 0\n",
    "budget_filter = df[\"budget\"] > 0\n",
    "\n",
    "# combining financial info for revenue OR budget\n",
    "fin_info = df.loc[(df['revenue'] > 0) | (df['budget'] > 0)]"
   ]
  },
  {
   "cell_type": "code",
   "execution_count": 38,
   "id": "94a1a896",
   "metadata": {},
   "outputs": [
    {
     "name": "stdout",
     "output_type": "stream",
     "text": [
      "<class 'pandas.core.frame.DataFrame'>\n",
      "Int64Index: 620 entries, 1 to 1268\n",
      "Data columns (total 26 columns):\n",
      " #   Column                 Non-Null Count  Dtype  \n",
      "---  ------                 --------------  -----  \n",
      " 0   imdb_id                620 non-null    object \n",
      " 1   adult                  620 non-null    float64\n",
      " 2   backdrop_path          519 non-null    object \n",
      " 3   belongs_to_collection  102 non-null    object \n",
      " 4   budget                 620 non-null    float64\n",
      " 5   genres                 620 non-null    object \n",
      " 6   homepage               80 non-null     object \n",
      " 7   id                     620 non-null    float64\n",
      " 8   original_language      620 non-null    object \n",
      " 9   original_title         620 non-null    object \n",
      " 10  overview               617 non-null    object \n",
      " 11  popularity             620 non-null    float64\n",
      " 12  poster_path            599 non-null    object \n",
      " 13  production_companies   620 non-null    object \n",
      " 14  production_countries   620 non-null    object \n",
      " 15  release_date           620 non-null    object \n",
      " 16  revenue                620 non-null    float64\n",
      " 17  runtime                620 non-null    float64\n",
      " 18  spoken_languages       620 non-null    object \n",
      " 19  status                 620 non-null    object \n",
      " 20  tagline                477 non-null    object \n",
      " 21  title                  620 non-null    object \n",
      " 22  video                  620 non-null    float64\n",
      " 23  vote_average           620 non-null    float64\n",
      " 24  vote_count             620 non-null    float64\n",
      " 25  certification          423 non-null    object \n",
      "dtypes: float64(9), object(17)\n",
      "memory usage: 130.8+ KB\n"
     ]
    }
   ],
   "source": [
    "# explore filtered financial info\n",
    "fin_info.info()"
   ]
  },
  {
   "cell_type": "code",
   "execution_count": 181,
   "id": "631f8a14",
   "metadata": {},
   "outputs": [
    {
     "data": {
      "text/html": [
       "<div>\n",
       "<style scoped>\n",
       "    .dataframe tbody tr th:only-of-type {\n",
       "        vertical-align: middle;\n",
       "    }\n",
       "\n",
       "    .dataframe tbody tr th {\n",
       "        vertical-align: top;\n",
       "    }\n",
       "\n",
       "    .dataframe thead th {\n",
       "        text-align: right;\n",
       "    }\n",
       "</style>\n",
       "<table border=\"1\" class=\"dataframe\">\n",
       "  <thead>\n",
       "    <tr style=\"text-align: right;\">\n",
       "      <th></th>\n",
       "      <th>certification</th>\n",
       "      <th>mean_revenue</th>\n",
       "    </tr>\n",
       "  </thead>\n",
       "  <tbody>\n",
       "    <tr>\n",
       "      <th>0</th>\n",
       "      <td>G</td>\n",
       "      <td>1.237085e+08</td>\n",
       "    </tr>\n",
       "    <tr>\n",
       "      <th>1</th>\n",
       "      <td>NR</td>\n",
       "      <td>8.887619e+06</td>\n",
       "    </tr>\n",
       "    <tr>\n",
       "      <th>2</th>\n",
       "      <td>PG</td>\n",
       "      <td>1.123378e+08</td>\n",
       "    </tr>\n",
       "    <tr>\n",
       "      <th>3</th>\n",
       "      <td>PG-13</td>\n",
       "      <td>9.970084e+07</td>\n",
       "    </tr>\n",
       "    <tr>\n",
       "      <th>4</th>\n",
       "      <td>R</td>\n",
       "      <td>3.334614e+07</td>\n",
       "    </tr>\n",
       "  </tbody>\n",
       "</table>\n",
       "</div>"
      ],
      "text/plain": [
       "  certification  mean_revenue\n",
       "0             G  1.237085e+08\n",
       "1            NR  8.887619e+06\n",
       "2            PG  1.123378e+08\n",
       "3         PG-13  9.970084e+07\n",
       "4             R  3.334614e+07"
      ]
     },
     "execution_count": 181,
     "metadata": {},
     "output_type": "execute_result"
    }
   ],
   "source": [
    "# groupby cert and rev\n",
    "rev_avg = fin_info.groupby('certification')['revenue'].agg(mean_revenue = (\"mean\"))\n",
    "\n",
    "#set new aggregate mean onto rev_avg\n",
    "rev_avg = rev_avg.reset_index()\n",
    "rev_avg.head()"
   ]
  },
  {
   "cell_type": "code",
   "execution_count": 174,
   "id": "07aa5cc8",
   "metadata": {},
   "outputs": [
    {
     "data": {
      "text/plain": [
       "'$120M'"
      ]
     },
     "execution_count": 174,
     "metadata": {},
     "output_type": "execute_result"
    }
   ],
   "source": [
    "# def function for millions\n",
    "def hundred_m(x,pos):\n",
    "    \"\"\"function for use wth matplotlib FuncFormatter -  formats money in millions\"\"\"\n",
    "    return f\"${x/1000000:,.0f}M\"\n",
    "\n",
    "# function test\n",
    "hundred_m(120000000,0)"
   ]
  },
  {
   "cell_type": "code",
   "execution_count": 176,
   "id": "61de6240",
   "metadata": {},
   "outputs": [],
   "source": [
    "# creating a formatter for improved viz\n",
    "price_fmt_100m = FuncFormatter(hundred_m)"
   ]
  },
  {
   "cell_type": "markdown",
   "id": "299f9369",
   "metadata": {},
   "source": [
    "### Revenue Average by Certification Category"
   ]
  },
  {
   "cell_type": "code",
   "execution_count": 191,
   "id": "8c7e96a8",
   "metadata": {},
   "outputs": [
    {
     "data": {
      "text/plain": [
       "Text(0.5, 1.0, 'Revenue Average by Certification Category')"
      ]
     },
     "execution_count": 191,
     "metadata": {},
     "output_type": "execute_result"
    },
    {
     "data": {
      "image/png": "[encoded data removed]",
      "text/plain": [
       "<Figure size 720x360 with 1 Axes>"
      ]
     },
     "metadata": {},
     "output_type": "display_data"
    }
   ],
   "source": [
    "# average revenue bar plot\n",
    "\n",
    "# set the style\n",
    "plt.style.use('ggplot')\n",
    "\n",
    "# set the size\n",
    "fig, ax = plt.subplots(figsize=(10,5))\n",
    "ax.yaxis.set_major_formatter(price_fmt_100m)\n",
    "\n",
    "\n",
    "# plot bars\n",
    "g = sns.barplot(x='certification', \n",
    "                y='mean_revenue', \n",
    "                order=[\"NR\",\"G\",\"PG\",\"PG-13\",\"R\"],\n",
    "                data = rev_avg) \n",
    "\n",
    "# labels and title\n",
    "plt.ylabel(\"Mean Revenue\", size=12)\n",
    "plt.xlabel(\"Certification Category\", size=12)\n",
    "plt.title(\"Revenue Average by Certification Category\", size=14)"
   ]
  },
  {
   "cell_type": "markdown",
   "id": "2426f39a",
   "metadata": {},
   "source": [
    "### Revenue Budget by Certification Category"
   ]
  },
  {
   "cell_type": "code",
   "execution_count": 186,
   "id": "edd41a1f",
   "metadata": {},
   "outputs": [
    {
     "data": {
      "text/html": [
       "<div>\n",
       "<style scoped>\n",
       "    .dataframe tbody tr th:only-of-type {\n",
       "        vertical-align: middle;\n",
       "    }\n",
       "\n",
       "    .dataframe tbody tr th {\n",
       "        vertical-align: top;\n",
       "    }\n",
       "\n",
       "    .dataframe thead th {\n",
       "        text-align: right;\n",
       "    }\n",
       "</style>\n",
       "<table border=\"1\" class=\"dataframe\">\n",
       "  <thead>\n",
       "    <tr style=\"text-align: right;\">\n",
       "      <th></th>\n",
       "      <th>certification</th>\n",
       "      <th>mean_budget</th>\n",
       "    </tr>\n",
       "  </thead>\n",
       "  <tbody>\n",
       "    <tr>\n",
       "      <th>0</th>\n",
       "      <td>G</td>\n",
       "      <td>4.085714e+07</td>\n",
       "    </tr>\n",
       "    <tr>\n",
       "      <th>1</th>\n",
       "      <td>NR</td>\n",
       "      <td>6.300006e+06</td>\n",
       "    </tr>\n",
       "    <tr>\n",
       "      <th>2</th>\n",
       "      <td>PG</td>\n",
       "      <td>4.497857e+07</td>\n",
       "    </tr>\n",
       "    <tr>\n",
       "      <th>3</th>\n",
       "      <td>PG-13</td>\n",
       "      <td>4.348391e+07</td>\n",
       "    </tr>\n",
       "    <tr>\n",
       "      <th>4</th>\n",
       "      <td>R</td>\n",
       "      <td>2.013149e+07</td>\n",
       "    </tr>\n",
       "  </tbody>\n",
       "</table>\n",
       "</div>"
      ],
      "text/plain": [
       "  certification   mean_budget\n",
       "0             G  4.085714e+07\n",
       "1            NR  6.300006e+06\n",
       "2            PG  4.497857e+07\n",
       "3         PG-13  4.348391e+07\n",
       "4             R  2.013149e+07"
      ]
     },
     "execution_count": 186,
     "metadata": {},
     "output_type": "execute_result"
    }
   ],
   "source": [
    "# grouping certs by budget mean\n",
    "budget_avg = fin_info.groupby('certification')['budget'].agg(mean_budget = (\"mean\"))\n",
    "budget_avg\n",
    "\n",
    "#set new aggregate mean onto rev_avg\n",
    "budget_avg = budget_avg.reset_index()\n",
    "budget_avg.head()"
   ]
  },
  {
   "cell_type": "code",
   "execution_count": 192,
   "id": "b58b7490",
   "metadata": {},
   "outputs": [
    {
     "data": {
      "text/plain": [
       "Text(0.5, 1.0, 'Budget Average by Certification Category')"
      ]
     },
     "execution_count": 192,
     "metadata": {},
     "output_type": "execute_result"
    },
    {
     "data": {
      "image/png": "[encoded data removed]",
      "text/plain": [
       "<Figure size 720x360 with 1 Axes>"
      ]
     },
     "metadata": {},
     "output_type": "display_data"
    }
   ],
   "source": [
    "# budget average bar plot\n",
    "\n",
    "# set the style\n",
    "plt.style.use('ggplot')\n",
    "\n",
    "# set the size\n",
    "fig, ax = plt.subplots(figsize=(10,5))\n",
    "ax.yaxis.set_major_formatter(price_fmt_100m)\n",
    "\n",
    "\n",
    "# plot bars\n",
    "g = sns.barplot(x='certification', \n",
    "                y='mean_budget', \n",
    "                order=[\"NR\",\"G\",\"PG\",\"PG-13\",\"R\"],\n",
    "                data = budget_avg) \n",
    "\n",
    "# labels and title\n",
    "plt.ylabel(\"Mean Revenue\", size=12)\n",
    "plt.xlabel(\"Certification Category\", size=12)\n",
    "plt.title(\"Budget Average by Certification Category\", size=14)"
   ]
  }
 ],
 "metadata": {
  "kernelspec": {
   "display_name": "Python (dojo-env)",
   "language": "python",
   "name": "dojo-env"
  },
  "language_info": {
   "codemirror_mode": {
    "name": "ipython",
    "version": 3
   },
   "file_extension": ".py",
   "mimetype": "text/x-python",
   "name": "python",
   "nbconvert_exporter": "python",
   "pygments_lexer": "ipython3",
   "version": "3.8.13"
  },
  "toc": {
   "base_numbering": 1,
   "nav_menu": {},
   "number_sections": false,
   "sideBar": true,
   "skip_h1_title": false,
   "title_cell": "Table of Contents",
   "title_sidebar": "Contents",
   "toc_cell": false,
   "toc_position": {
    "height": "calc(100% - 180px)",
    "left": "10px",
    "top": "150px",
    "width": "384px"
   },
   "toc_section_display": true,
   "toc_window_display": true
  }
 },
 "nbformat": 4,
 "nbformat_minor": 5
}
