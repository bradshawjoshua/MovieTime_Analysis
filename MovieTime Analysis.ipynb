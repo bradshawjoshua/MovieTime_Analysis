{
 "cells": [
  {
   "cell_type": "markdown",
   "id": "6f4aa4b7",
   "metadata": {},
   "source": [
    "# Movies Analysis"
   ]
  },
  {
   "cell_type": "markdown",
   "id": "0b858d3c",
   "metadata": {},
   "source": [
    "## Imports"
   ]
  },
  {
   "cell_type": "code",
   "execution_count": 1,
   "id": "63345d2e",
   "metadata": {},
   "outputs": [],
   "source": [
    "# Base Imports\n",
    "import pandas as pd\n",
    "import numpy as np\n",
    "import seaborn as sns\n",
    "import matplotlib.pyplot as plt"
   ]
  },
  {
   "cell_type": "markdown",
   "id": "6583e593",
   "metadata": {},
   "source": [
    "## Data"
   ]
  },
  {
   "cell_type": "code",
   "execution_count": null,
   "id": "6143e6b1",
   "metadata": {},
   "outputs": [],
   "source": [
    "#basics_url=\"https://datasets.imdbws.com/title.basics.tsv.gz\"\n",
    "#akas_url=\"https://datasets.imdbws.com/title.akas.tsv.gz\"\n",
    "#ratings_url=\"https://datasets.imdbws.com/title.ratings.tsv.gz\""
   ]
  },
  {
   "cell_type": "code",
   "execution_count": null,
   "id": "31330f03",
   "metadata": {},
   "outputs": [],
   "source": [
    "#basics = pd.read_csv(basics_url,sep='\\t', low_memory=False)"
   ]
  },
  {
   "cell_type": "code",
   "execution_count": null,
   "id": "a1356f87",
   "metadata": {},
   "outputs": [],
   "source": [
    "#akas = pd.read_csv(akas_url,sep='\\t', low_memory=False)"
   ]
  },
  {
   "cell_type": "code",
   "execution_count": null,
   "id": "9b02534b",
   "metadata": {},
   "outputs": [],
   "source": [
    "#ratings = pd.read_csv(ratings_url,sep='\\t', low_memory=False)"
   ]
  },
  {
   "cell_type": "code",
   "execution_count": 2,
   "id": "cd8af665",
   "metadata": {},
   "outputs": [],
   "source": [
    "\n",
    "basics = pd.read_csv(\"Data/title_basics.csv.gz\", low_memory = False)"
   ]
  },
  {
   "cell_type": "code",
   "execution_count": 3,
   "id": "86275a36",
   "metadata": {},
   "outputs": [],
   "source": [
    "akas = pd.read_csv(\"Data/title_akas.csv.gz\", low_memory = False)"
   ]
  },
  {
   "cell_type": "code",
   "execution_count": 4,
   "id": "2dbef802",
   "metadata": {},
   "outputs": [],
   "source": [
    "ratings = pd.read_csv(\"Data/title_ratings.csv.gz\", low_memory = False)"
   ]
  },
  {
   "cell_type": "markdown",
   "id": "1d2ec4c7",
   "metadata": {},
   "source": [
    "## Basics Preprocessing"
   ]
  },
  {
   "cell_type": "code",
   "execution_count": null,
   "id": "3184f986",
   "metadata": {
    "scrolled": true
   },
   "outputs": [],
   "source": [
    "basics"
   ]
  },
  {
   "cell_type": "markdown",
   "id": "deb3cd4b",
   "metadata": {},
   "source": [
    "Notes:\n",
    "* Replace \"\\N\" with np.nan\n",
    "* Eliminate movies that are null for runtimeMinutes\n",
    "* Eliminate movies that are null for genre\n",
    "* keep only titleType == movie\n",
    "* keep startYear 2000-2022\n",
    "* Eliminate movies that include \"Documentary\" in genre (see tip below)"
   ]
  },
  {
   "cell_type": "code",
   "execution_count": null,
   "id": "be82a761",
   "metadata": {},
   "outputs": [],
   "source": [
    "#scanning dtypes\n",
    "basics.info()"
   ]
  },
  {
   "cell_type": "markdown",
   "id": "2448910a",
   "metadata": {},
   "source": [
    "> Noticed an issue with 'runtimeMinutes'. Some of the records have text values, pretty sure this is supposed to be a datetime dtype."
   ]
  },
  {
   "cell_type": "code",
   "execution_count": null,
   "id": "4d58720a",
   "metadata": {},
   "outputs": [],
   "source": [
    "#replacing \\N to np.nan\n",
    "basics.replace({'\\\\N':np.nan}, inplace=True)"
   ]
  },
  {
   "cell_type": "code",
   "execution_count": null,
   "id": "8905e731",
   "metadata": {},
   "outputs": [],
   "source": [
    "#dropping NaNs\n",
    "basics = basics.dropna(axis=0, how='any', thresh=None, subset=['runtimeMinutes', 'genres'], inplace=False)"
   ]
  },
  {
   "cell_type": "code",
   "execution_count": null,
   "id": "81883d83",
   "metadata": {},
   "outputs": [],
   "source": [
    "#instantiating filters for preproc\n",
    "basics_filtered = basics[(basics.titleType == \"movie\") & ((basics['startYear'] >= \"2000\") & (basics['startYear'] <= \"2022\"))]"
   ]
  },
  {
   "cell_type": "code",
   "execution_count": null,
   "id": "fdb2478d",
   "metadata": {},
   "outputs": [],
   "source": [
    "#verifying filters\n",
    "basics_filtered.head()"
   ]
  },
  {
   "cell_type": "code",
   "execution_count": null,
   "id": "0d63e840",
   "metadata": {},
   "outputs": [],
   "source": [
    "#excluding movies with 'documentary'\n",
    "is_documentary = basics_filtered['genres'].str.contains('documentary',case=False)\n",
    "basics_cleaned = basics_filtered[~is_documentary]"
   ]
  },
  {
   "cell_type": "code",
   "execution_count": null,
   "id": "7ae433af",
   "metadata": {},
   "outputs": [],
   "source": [
    "#verifying 'documentary' dropped\n",
    "basics_cleaned"
   ]
  },
  {
   "cell_type": "markdown",
   "id": "5cd44993",
   "metadata": {},
   "source": [
    "## AKAs Preprocessing"
   ]
  },
  {
   "cell_type": "code",
   "execution_count": null,
   "id": "d0405a71",
   "metadata": {},
   "outputs": [],
   "source": [
    "#replacing \\N to np.nan\n",
    "akas.replace({'\\\\N':np.nan}, inplace=True)"
   ]
  },
  {
   "cell_type": "code",
   "execution_count": null,
   "id": "af093da3",
   "metadata": {},
   "outputs": [],
   "source": [
    "#checking\n",
    "akas"
   ]
  },
  {
   "cell_type": "code",
   "execution_count": null,
   "id": "b3f1dec8",
   "metadata": {},
   "outputs": [],
   "source": [
    "#US entries only\n",
    "akas_us = akas['region'] == 'US'"
   ]
  },
  {
   "cell_type": "code",
   "execution_count": null,
   "id": "b56f5bcc",
   "metadata": {},
   "outputs": [],
   "source": [
    "#variable for US only\n",
    "akas_cleaned = akas.loc[akas_us]"
   ]
  },
  {
   "cell_type": "code",
   "execution_count": null,
   "id": "ab71cbd7",
   "metadata": {},
   "outputs": [],
   "source": [
    "#checking\n",
    "akas_cleaned"
   ]
  },
  {
   "cell_type": "markdown",
   "id": "8414ea9c",
   "metadata": {},
   "source": [
    "## Ratings Preprocessing"
   ]
  },
  {
   "cell_type": "code",
   "execution_count": null,
   "id": "ef75f350",
   "metadata": {},
   "outputs": [],
   "source": [
    "#replacing \\N to np.nan\n",
    "ratings.replace({'\\\\N':np.nan}, inplace=True)"
   ]
  },
  {
   "cell_type": "code",
   "execution_count": null,
   "id": "cc328965",
   "metadata": {},
   "outputs": [],
   "source": [
    "#checking\n",
    "ratings"
   ]
  },
  {
   "cell_type": "markdown",
   "id": "01061985",
   "metadata": {},
   "source": [
    "## Filtering Basics on AKAs"
   ]
  },
  {
   "cell_type": "code",
   "execution_count": null,
   "id": "b7cdaba8",
   "metadata": {},
   "outputs": [],
   "source": [
    "#filter basics table down to US only\n",
    "keepers =basics_cleaned['tconst'].isin(akas_cleaned['titleId'])\n",
    "keepers"
   ]
  },
  {
   "cell_type": "code",
   "execution_count": null,
   "id": "9e5a78d4",
   "metadata": {},
   "outputs": [],
   "source": [
    "#filtering on basics cleaned\n",
    "basics_cleaned = basics_cleaned[keepers]\n",
    "basics_cleaned"
   ]
  },
  {
   "cell_type": "code",
   "execution_count": null,
   "id": "f700933f",
   "metadata": {},
   "outputs": [],
   "source": [
    "#importing filtered dataframes to Data folder\n",
    "#import os\n",
    "#os.makedirs('Data/',exist_ok=True) \n",
    "# Confirm folder created\n",
    "#os.listdir(\"Data/\")"
   ]
  },
  {
   "cell_type": "code",
   "execution_count": null,
   "id": "24741359",
   "metadata": {},
   "outputs": [],
   "source": [
    "#basics compressed to csv\n",
    "#basics_cleaned.to_csv(\"Data/title_basics.csv.gz\",compression='gzip',index=False)"
   ]
  },
  {
   "cell_type": "code",
   "execution_count": null,
   "id": "7434a083",
   "metadata": {},
   "outputs": [],
   "source": [
    "#akas compressed to csv\n",
    "#akas_cleaned.to_csv(\"Data/title_akas.csv.gz\",compression='gzip',index=False)"
   ]
  },
  {
   "cell_type": "code",
   "execution_count": null,
   "id": "4aeb76a9",
   "metadata": {},
   "outputs": [],
   "source": [
    "#ratings compressed to csv\n",
    "#ratings.to_csv(\"Data/title_ratings.csv.gz\",compression='gzip',index=False)"
   ]
  },
  {
   "cell_type": "code",
   "execution_count": 7,
   "id": "a382bb97",
   "metadata": {},
   "outputs": [
    {
     "name": "stdout",
     "output_type": "stream",
     "text": [
      "<class 'pandas.core.frame.DataFrame'>\n",
      "RangeIndex: 82150 entries, 0 to 82149\n",
      "Data columns (total 9 columns):\n",
      " #   Column          Non-Null Count  Dtype  \n",
      "---  ------          --------------  -----  \n",
      " 0   tconst          82150 non-null  object \n",
      " 1   titleType       82150 non-null  object \n",
      " 2   primaryTitle    82150 non-null  object \n",
      " 3   originalTitle   82150 non-null  object \n",
      " 4   isAdult         82150 non-null  int64  \n",
      " 5   startYear       82150 non-null  int64  \n",
      " 6   endYear         0 non-null      float64\n",
      " 7   runtimeMinutes  82150 non-null  int64  \n",
      " 8   genres          82150 non-null  object \n",
      "dtypes: float64(1), int64(3), object(5)\n",
      "memory usage: 5.6+ MB\n"
     ]
    }
   ],
   "source": [
    "basics.info()\n"
   ]
  },
  {
   "cell_type": "code",
   "execution_count": null,
   "id": "4b23be97",
   "metadata": {},
   "outputs": [],
   "source": []
  }
 ],
 "metadata": {
  "kernelspec": {
   "display_name": "Python (dojo-env)",
   "language": "python",
   "name": "dojo-env"
  },
  "language_info": {
   "codemirror_mode": {
    "name": "ipython",
    "version": 3
   },
   "file_extension": ".py",
   "mimetype": "text/x-python",
   "name": "python",
   "nbconvert_exporter": "python",
   "pygments_lexer": "ipython3",
   "version": "3.8.13"
  },
  "toc": {
   "base_numbering": 1,
   "nav_menu": {},
   "number_sections": false,
   "sideBar": true,
   "skip_h1_title": false,
   "title_cell": "Table of Contents",
   "title_sidebar": "Contents",
   "toc_cell": false,
   "toc_position": {
    "height": "calc(100% - 180px)",
    "left": "10px",
    "top": "150px",
    "width": "384px"
   },
   "toc_section_display": true,
   "toc_window_display": true
  }
 },
 "nbformat": 4,
 "nbformat_minor": 5
}
